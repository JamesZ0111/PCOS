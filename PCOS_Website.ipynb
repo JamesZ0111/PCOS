{
 "cells": [
  {
   "cell_type": "code",
   "execution_count": 1,
   "metadata": {},
   "outputs": [],
   "source": [
    "#import modules\n",
    "\n",
    "import matplotlib.pyplot as plt\n",
    "from sklearn.model_selection import train_test_split\n",
    "from sklearn.ensemble import RandomForestClassifier\n",
    "from sklearn.metrics import accuracy_score\n",
    "from sklearn.model_selection import cross_val_score\n",
    "from sklearn.model_selection import GridSearchCV\n",
    "from sklearn.metrics import confusion_matrix\n",
    "from sklearn.metrics import classification_report\n",
    "import pandas as pd\n",
    "import numpy as np"
   ]
  },
  {
   "cell_type": "code",
   "execution_count": 2,
   "metadata": {},
   "outputs": [],
   "source": [
    "#Loding data into the kernels \n",
    "\n",
    "file_path_with_infertility=\"PCOS_infertility.csv\"\n",
    "file_path_without_infertility=\"PCOS_data_without_infertility.xlsx\"\n",
    "\n",
    "PCOS_inf = pd.read_csv(file_path_with_infertility)\n",
    "PCOS_woinf = pd.read_excel(file_path_without_infertility, sheet_name=\"Full_new\")"
   ]
  },
  {
   "cell_type": "code",
   "execution_count": 3,
   "metadata": {},
   "outputs": [],
   "source": [
    "#Merging the two files as per patient file no. \n",
    "data = pd.merge(PCOS_woinf, PCOS_inf, on='Patient File No.', suffixes=('', '_y'), how='left')\n",
    "\n",
    "#Dropping the repeated features after merging\n",
    "data_premium =data.drop(['Unnamed: 44', 'Sl. No_y', 'PCOS (Y/N)_y', '  I   beta-HCG(mIU/mL)_y',\n",
    "      'II    beta-HCG(mIU/mL)_y', 'AMH(ng/mL)_y'], axis=1)\n",
    "\n",
    "\n"
   ]
  },
  {
   "cell_type": "code",
   "execution_count": 4,
   "metadata": {},
   "outputs": [],
   "source": [
    "#Dealing with categorical values.\n",
    "#In this database the type objects are numeric values saved as strings.\n",
    "#So I am just converting it into a numeric value.\n",
    "\n",
    "data_premium[\"AMH(ng/mL)\"] = pd.to_numeric(data_premium[\"AMH(ng/mL)\"], errors='coerce')\n",
    "data_premium[\"II    beta-HCG(mIU/mL)\"] = pd.to_numeric(data_premium[\"II    beta-HCG(mIU/mL)\"], errors='coerce')\n",
    "\n",
    "#Dealing with missing values. \n",
    "#Filling NA values with the median of that feature.\n",
    "\n",
    "data_premium['Marraige Status (Yrs)'].fillna(data_premium['Marraige Status (Yrs)'].median(),inplace=True)\n",
    "data_premium['II    beta-HCG(mIU/mL)'].fillna(data_premium['II    beta-HCG(mIU/mL)'].median(),inplace=True)\n",
    "data_premium['AMH(ng/mL)'].fillna(data_premium['AMH(ng/mL)'].median(),inplace=True)\n",
    "data_premium['Fast food (Y/N)'].fillna(data_premium['Fast food (Y/N)'].median(),inplace=True)\n",
    "\n",
    "#Clearing up the extra space in the column names (optional)\n",
    "data_premium.columns = [col.strip() for col in data_premium.columns]"
   ]
  },
  {
   "cell_type": "code",
   "execution_count": 5,
   "metadata": {},
   "outputs": [
    {
     "name": "stdout",
     "output_type": "stream",
     "text": [
      "(432, 20) (109, 20) (432,) (109,)\n",
      "Index(['Age (yrs)', 'Weight (Kg)', 'Height(Cm)', 'BMI', 'Pulse rate(bpm)',\n",
      "       'Cycle(R/I)', 'Cycle length(days)', 'Marraige Status (Yrs)',\n",
      "       'Pregnant(Y/N)', 'No. of aborptions', 'Hip(inch)', 'Waist(inch)',\n",
      "       'Waist:Hip Ratio', 'Weight gain(Y/N)', 'hair growth(Y/N)',\n",
      "       'Skin darkening (Y/N)', 'Hair loss(Y/N)', 'Pimples(Y/N)',\n",
      "       'Fast food (Y/N)', 'Reg.Exercise(Y/N)'],\n",
      "      dtype='object')\n"
     ]
    }
   ],
   "source": [
    "#Bootsrapping the data using sample\n",
    "data_premium = data_premium.sample(frac=1, replace=True, random_state=42)\n",
    "\n",
    "\n",
    "#Dropping the columns that are not relevant to PCOS\n",
    "data_standard = data_premium.drop(['Blood Group','BP _Systolic (mmHg)','BP _Diastolic (mmHg)','Follicle No. (L)','Follicle No. (R)','Avg. F size (L) (mm)','Avg. F size (R) (mm)','Endometrium (mm)','Hb(g/dl)','Vit D3 (ng/mL)','PRG(ng/mL)','RBS(mg/dl)','TSH (mIU/L)','AMH(ng/mL)','PRL(ng/mL)','RR (breaths/min)', 'II    beta-HCG(mIU/mL)', \n",
    "       'FSH(mIU/mL)', 'LH(mIU/mL)', 'FSH/LH','I   beta-HCG(mIU/mL)'], axis=1)\n",
    "\n",
    "#Splitting the data into training and testing sets, 80% of the data will be used for training and 20% for testing.\n",
    "X = data_standard.drop([\"PCOS (Y/N)\",\"Patient File No.\", \"Sl. No\"], axis=1)\n",
    "y = data_standard['PCOS (Y/N)']\n",
    "\n",
    "data_standard = data_standard.drop([\"PCOS (Y/N)\",\"Patient File No.\", \"Sl. No\"], axis=1)\n",
    "\n",
    "X_train, X_test, y_train, y_test = train_test_split(X, y, test_size=0.2, random_state=42)\n",
    "\n",
    "print(X_train.shape, X_test.shape, y_train.shape, y_test.shape)\n",
    "print(data_standard.columns)"
   ]
  },
  {
   "cell_type": "code",
   "execution_count": 6,
   "metadata": {},
   "outputs": [],
   "source": [
    "#normalising all the features\n",
    "from sklearn.preprocessing import StandardScaler\n",
    "\n",
    "scaler = StandardScaler()\n",
    "X_train = scaler.fit_transform(X_train)\n",
    "X_test = scaler.transform(X_test)"
   ]
  },
  {
   "cell_type": "code",
   "execution_count": 7,
   "metadata": {},
   "outputs": [
    {
     "name": "stdout",
     "output_type": "stream",
     "text": [
      "Mean Accuracy:  0.9223921168875296\n"
     ]
    }
   ],
   "source": [
    "from sklearn.ensemble import RandomForestClassifier\n",
    "from sklearn.model_selection import KFold\n",
    "from sklearn.metrics import accuracy_score\n",
    "import numpy as np\n",
    "\n",
    "#Creating a random forest classifier\n",
    "rf = RandomForestClassifier(n_estimators=100, random_state=42)\n",
    "\n",
    "# Initialize KFold with 5 splits\n",
    "kf = KFold(n_splits=5, shuffle=True, random_state=42)\n",
    "\n",
    "accuracies = []\n",
    "\n",
    "# Ensure X and y are numpy arrays\n",
    "X_np = np.array(X)\n",
    "y_np = np.array(y)\n",
    "\n",
    "for train_index, test_index in kf.split(X_np):\n",
    "    X_train, X_test = X_np[train_index], X_np[test_index]\n",
    "    y_train, y_test = y_np[train_index], y_np[test_index]\n",
    "\n",
    "    # Train the model\n",
    "    rf.fit(X_train, y_train)\n",
    "\n",
    "    # Predict the test set\n",
    "    y_pred = rf.predict(X_test)\n",
    "\n",
    "    # Calculate the accuracy of the model\n",
    "    accuracy = accuracy_score(y_test, y_pred)\n",
    "    accuracies.append(accuracy)\n",
    "\n",
    "# Print the mean accuracy\n",
    "print(\"Mean Accuracy: \", np.mean(accuracies))\n",
    "\n"
   ]
  },
  {
   "cell_type": "code",
   "execution_count": 8,
   "metadata": {},
   "outputs": [
    {
     "name": "stdout",
     "output_type": "stream",
     "text": [
      "Prediction:  [0]\n",
      "Prediction Probabilities: [[0.78 0.22]]\n"
     ]
    }
   ],
   "source": [
    "# Assuming you have already trained the model and have the `rf` object\n",
    "\n",
    "# Step 1: Prepare the test input\n",
    "# Create a dictionary with the same features as X\n",
    "test_input = {\n",
    "    'Age (yrs)': [28],\n",
    "    'Weight (Kg)': [58],\n",
    "    'Height(Cm)': [152],\n",
    "    'BMI': [19.3],\n",
    "    'Pulse rate(bpm)': [78],\n",
    "    'Cycle(R/I)': [2],\n",
    "    'Cycle length(days)': [5],\n",
    "    'Marraige Status (Yrs)': [7],\n",
    "    'Pregnant(Y/N)': [0],\n",
    "    'No. of aborptions': [0],\n",
    "    'Hip(inch)': [36],\n",
    "    'Waist(inch)': [30],\n",
    "    'Waist:Hip Ratio': [0.833],\n",
    "    'Weight gain(Y/N)': [0],\n",
    "    'hair growth(Y/N)': [0],\n",
    "    'Skin darkening (Y/N)': [0],\n",
    "    'Hair loss(Y/N)': [0],\n",
    "    'Pimples(Y/N)': [0],\n",
    "    'Fast food (Y/N)': [1],\n",
    "    'Reg.Exercise(Y/N)': [0]\n",
    "}\n",
    "\n",
    "# Convert the dictionary to a DataFrame\n",
    "test_input_df = pd.DataFrame(test_input)\n",
    "\n",
    "# Step 2: Preprocess the test input\n",
    "# Apply the same scaling that was applied to the training data\n",
    "test_input_scaled = scaler.transform(test_input_df)\n",
    "\n",
    "# Step 3: Make a prediction\n",
    "prediction = rf.predict(test_input_scaled)\n",
    "\n",
    "# Output the prediction\n",
    "print(\"Prediction: \", prediction)\n",
    "\n",
    "prediction_proba = rf.predict_proba(test_input_scaled)\n",
    "print(\"Prediction Probabilities:\", prediction_proba)"
   ]
  },
  {
   "cell_type": "code",
   "execution_count": 9,
   "metadata": {},
   "outputs": [
    {
     "name": "stdout",
     "output_type": "stream",
     "text": [
      "Columns used for imputer: Index(['Age (yrs)', 'Weight (Kg)', 'Height(Cm)', 'BMI', 'Pulse rate(bpm)',\n",
      "       'Cycle(R/I)', 'Cycle length(days)', 'Marraige Status (Yrs)',\n",
      "       'Pregnant(Y/N)', 'No. of aborptions', 'Hip(inch)', 'Waist(inch)',\n",
      "       'Waist:Hip Ratio', 'Weight gain(Y/N)', 'hair growth(Y/N)',\n",
      "       'Skin darkening (Y/N)', 'Hair loss(Y/N)', 'Pimples(Y/N)',\n",
      "       'Fast food (Y/N)', 'Reg.Exercise(Y/N)'],\n",
      "      dtype='object')\n",
      "Columns from Streamlit input: Index(['Age (yrs)', 'Weight (Kg)', 'Height(Cm)', 'BMI', 'Pulse rate(bpm)',\n",
      "       'Cycle(R/I)', 'Cycle length(days)', 'Marraige Status (Yrs)',\n",
      "       'Pregnant(Y/N)', 'No. of aborptions', 'Hip(inch)', 'Waist(inch)',\n",
      "       'Waist:Hip Ratio', 'Weight gain(Y/N)', 'hair growth(Y/N)',\n",
      "       'Skin darkening (Y/N)', 'Hair loss(Y/N)', 'Pimples(Y/N)',\n",
      "       'Fast food (Y/N)', 'Reg.Exercise(Y/N)'],\n",
      "      dtype='object')\n"
     ]
    }
   ],
   "source": [
    "from joblib import dump\n",
    "from sklearn.impute import SimpleImputer\n",
    "\n",
    "# Define the imputer\n",
    "imputer = SimpleImputer(strategy='median')\n",
    "\n",
    "# Fit the imputer on the data\n",
    "imputer.fit(data_standard)\n",
    "\n",
    "# Save your model and preprocessing objects\n",
    "dump(rf, 'model_new.joblib')\n",
    "dump(scaler, 'scaler_new.joblib')\n",
    "dump(imputer, 'imputer_new.joblib')\n",
    "\n",
    "# Assuming input_data should have the same columns as data_standard\n",
    "input_data = pd.DataFrame(columns=data_standard.columns)\n",
    "\n",
    "print(\"Columns used for imputer:\", data_standard.columns)\n",
    "print(\"Columns from Streamlit input:\", input_data.columns)\n",
    "\n",
    "\n",
    "import json\n",
    "\n",
    "feature_columns = [\n",
    "    'Age (yrs)', 'Weight (Kg)', 'Height(Cm)', 'BMI', 'Pulse rate(bpm)',\n",
    "    'Cycle(R/I)', 'Cycle length(days)', 'Marraige Status (Yrs)',\n",
    "    'Pregnant(Y/N)', 'No. of aborptions', 'Hip(inch)', 'Waist(inch)',\n",
    "    'Waist:Hip Ratio', 'Weight gain(Y/N)', 'hair growth(Y/N)',\n",
    "    'Skin darkening (Y/N)', 'Hair loss(Y/N)', 'Pimples(Y/N)',\n",
    "    'Fast food (Y/N)', 'Reg.Exercise(Y/N)'\n",
    "]\n",
    "\n",
    "with open(\"feature_columns.json\", \"w\") as f:\n",
    "    json.dump(feature_columns, f, indent=4)\n"
   ]
  },
  {
   "cell_type": "code",
   "execution_count": 10,
   "metadata": {},
   "outputs": [
    {
     "name": "stdout",
     "output_type": "stream",
     "text": [
      "Prediction:  [0]\n",
      "Prediction Probabilities: [[0.78 0.22]]\n"
     ]
    }
   ],
   "source": [
    "# Assuming you have already trained the model and have the `rf` object\n",
    "\n",
    "# Step 1: Prepare the test input\n",
    "# Create a dictionary with the same features as X\n",
    "test_input = {\n",
    "    'Age (yrs)': [28],\n",
    "    'Weight (Kg)': [58],\n",
    "    'Height(Cm)': [152],\n",
    "    'BMI': [19.3],\n",
    "    'Pulse rate(bpm)': [78],\n",
    "    'Cycle(R/I)': [2],\n",
    "    'Cycle length(days)': [5],\n",
    "    'Marraige Status (Yrs)': [7],\n",
    "    'Pregnant(Y/N)': [0],\n",
    "    'No. of aborptions': [0],\n",
    "    'Hip(inch)': [36],\n",
    "    'Waist(inch)': [30],\n",
    "    'Waist:Hip Ratio': [0.833],\n",
    "    'Weight gain(Y/N)': [0],\n",
    "    'hair growth(Y/N)': [0],\n",
    "    'Skin darkening (Y/N)': [0],\n",
    "    'Hair loss(Y/N)': [0],\n",
    "    'Pimples(Y/N)': [0],\n",
    "    'Fast food (Y/N)': [1],\n",
    "    'Reg.Exercise(Y/N)': [0]\n",
    "}\n",
    "\n",
    "# Convert the dictionary to a DataFrame\n",
    "test_input_df = pd.DataFrame(test_input)\n",
    "\n",
    "# Step 2: Preprocess the test input\n",
    "# Apply the same scaling that was applied to the training data\n",
    "test_input_scaled = scaler.transform(test_input_df)\n",
    "\n",
    "# Step 3: Make a prediction\n",
    "prediction = rf.predict(test_input_scaled)\n",
    "\n",
    "# Output the prediction\n",
    "print(\"Prediction: \", prediction)\n",
    "\n",
    "prediction_proba = rf.predict_proba(test_input_scaled)\n",
    "print(\"Prediction Probabilities:\", prediction_proba)"
   ]
  }
 ],
 "metadata": {
  "kernelspec": {
   "display_name": "4179",
   "language": "python",
   "name": "python3"
  },
  "language_info": {
   "codemirror_mode": {
    "name": "ipython",
    "version": 3
   },
   "file_extension": ".py",
   "mimetype": "text/x-python",
   "name": "python",
   "nbconvert_exporter": "python",
   "pygments_lexer": "ipython3",
   "version": "3.11.5"
  }
 },
 "nbformat": 4,
 "nbformat_minor": 2
}
